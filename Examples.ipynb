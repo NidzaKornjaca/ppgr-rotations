{
 "cells": [
  {
   "cell_type": "code",
   "execution_count": 1,
   "metadata": {},
   "outputs": [],
   "source": [
    "import math\n",
    "import numpy as np\n",
    "from rotations.quaternions import Quaternion\n",
    "import rotations.representations as rot"
   ]
  },
  {
   "cell_type": "code",
   "execution_count": 2,
   "metadata": {},
   "outputs": [
    {
     "name": "stdout",
     "output_type": "stream",
     "text": [
      "1.0471975511965976 0.7853981633974483 2.5132741228718345\n"
     ]
    }
   ],
   "source": [
    "phi = math.pi * 1/3\n",
    "theta = math.pi * 1/4\n",
    "psy = math.pi * 4/5\n",
    "print(phi, theta, psy)"
   ]
  },
  {
   "cell_type": "code",
   "execution_count": 3,
   "metadata": {},
   "outputs": [
    {
     "name": "stdout",
     "output_type": "stream",
     "text": [
      "[[-0.5720614  -0.78931233  0.22300626]\n",
      " [ 0.41562694 -0.04456501  0.90844274]\n",
      " [-0.70710678  0.61237244  0.35355339]]\n"
     ]
    }
   ],
   "source": [
    "a = rot.euler2a(phi, theta, psy)\n",
    "print(a)"
   ]
  },
  {
   "cell_type": "code",
   "execution_count": 4,
   "metadata": {},
   "outputs": [
    {
     "name": "stdout",
     "output_type": "stream",
     "text": [
      "[-0.19092782+0.j  0.59980504+0.j  0.77703313+0.j] 2.254329653103487\n",
      "[[-0.5720614 +0.j -0.78931233+0.j  0.22300626+0.j]\n",
      " [ 0.41562694+0.j -0.04456501+0.j  0.90844274+0.j]\n",
      " [-0.70710678+0.j  0.61237244+0.j  0.35355339+0.j]]\n"
     ]
    }
   ],
   "source": [
    "axis, angle = rot.axis_angle(a)\n",
    "print(axis, angle)\n",
    "r = rot.rodrigez(axis, angle)\n",
    "print(r)"
   ]
  },
  {
   "cell_type": "code",
   "execution_count": 5,
   "metadata": {},
   "outputs": [
    {
     "name": "stdout",
     "output_type": "stream",
     "text": [
      "(1.0471975511965976, 0.7853981633974482, 2.5132741228718345)\n",
      "1.0471975511965976 0.7853981633974483 2.5132741228718345\n"
     ]
    }
   ],
   "source": [
    "print(rot.a2euler(a))\n",
    "print(phi, theta, psy)"
   ]
  },
  {
   "cell_type": "code",
   "execution_count": 6,
   "metadata": {},
   "outputs": [
    {
     "name": "stdout",
     "output_type": "stream",
     "text": [
      "Quaternion(-0.1724458010246311i + 0.5417432513768276j + 0.7018154679091264k + 0.4292222551314542)\n"
     ]
    }
   ],
   "source": [
    "q = Quaternion.from_axis_angle(axis, angle)\n",
    "print(q)"
   ]
  },
  {
   "cell_type": "code",
   "execution_count": 7,
   "metadata": {},
   "outputs": [
    {
     "name": "stdout",
     "output_type": "stream",
     "text": [
      "[-0.19092782  0.59980504  0.77703313] 2.254329653103487\n"
     ]
    }
   ],
   "source": [
    "axis_n, angle_n = q.to_axis_angle()\n",
    "print(axis_n, angle_n)"
   ]
  },
  {
   "cell_type": "code",
   "execution_count": null,
   "metadata": {},
   "outputs": [],
   "source": []
  }
 ],
 "metadata": {
  "kernelspec": {
   "display_name": "Python 3",
   "language": "python",
   "name": "python3"
  },
  "language_info": {
   "codemirror_mode": {
    "name": "ipython",
    "version": 3
   },
   "file_extension": ".py",
   "mimetype": "text/x-python",
   "name": "python",
   "nbconvert_exporter": "python",
   "pygments_lexer": "ipython3",
   "version": "3.6.6"
  }
 },
 "nbformat": 4,
 "nbformat_minor": 2
}
