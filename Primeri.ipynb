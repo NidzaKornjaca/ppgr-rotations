{
 "cells": [
  {
   "cell_type": "code",
   "execution_count": 2,
   "metadata": {},
   "outputs": [],
   "source": [
    "import numpy as np\n",
    "import math"
   ]
  },
  {
   "cell_type": "code",
   "execution_count": 3,
   "metadata": {},
   "outputs": [],
   "source": [
    "def rot_x_global(angle):\n",
    "    \"\"\"\n",
    "    Return matrix for rotation around the global x axis for an angle\n",
    "    expressed in radians.\n",
    "    \"\"\"\n",
    "    return np.array([\n",
    "        [1, 0, 0],\n",
    "        [0, math.cos(angle), -math.sin(angle)],\n",
    "        [0, math.sin(angle), math.cos(angle)]\n",
    "    ])\n",
    "\n",
    "\n",
    "def rot_y_global(angle):\n",
    "    \"\"\"\n",
    "    Return matrix for rotation around the y axis for\n",
    "    an angle expressed in radians.\n",
    "    \"\"\"\n",
    "    return np.array([\n",
    "        [math.cos(angle), 0, math.sin(angle)],\n",
    "        [0, 1, 0],\n",
    "        [-math.sin(angle), 0, math.cos(angle)]\n",
    "    ])\n",
    "\n",
    "         \n",
    "def rot_z_global(angle):\n",
    "    \"\"\"\n",
    "    Return matrix for rotation around the z axis for\n",
    "    an angle expressed in radians.\n",
    "    \"\"\"\n",
    "    return np.array([\n",
    "        [math.cos(angle), -math.sin(angle), 0],\n",
    "        [math.sin(angle), math.cos(angle), 0],\n",
    "        [0, 0, 1]\n",
    "    ])\n",
    "\n",
    "# 1-a\n",
    "def euler2a(phi, theta, psy):\n",
    "    \"\"\"\n",
    "    Returns the matrix transform for the rotation\n",
    "    around the axi x, y, z by the angles phy, theta\n",
    "    and psy respectively.\n",
    "    \"\"\"\n",
    "    rot_x = rot_x_global(phi)\n",
    "    rot_y = rot_y_global(theta)\n",
    "    rot_z = rot_z_global(psy)\n",
    "    return rot_z @ rot_y @ rot_x\n",
    "\n"
   ]
  },
  {
   "cell_type": "code",
   "execution_count": 4,
   "metadata": {},
   "outputs": [
    {
     "data": {
      "text/plain": [
       "array([[ 0.11111111, -0.88888889, -0.44444444],\n",
       "       [ 0.44444444,  0.44444444, -0.77777778],\n",
       "       [ 0.88888889, -0.11111111,  0.44444444]])"
      ]
     },
     "execution_count": 4,
     "metadata": {},
     "output_type": "execute_result"
    }
   ],
   "source": [
    "a = euler2a(-math.atan(0.25), -math.asin(8/9), math.atan(4))\n",
    "a"
   ]
  },
  {
   "cell_type": "code",
   "execution_count": 9,
   "metadata": {},
   "outputs": [],
   "source": [
    "def get_eig(matrix):\n",
    "    \"\"\"\n",
    "    Get eigenvector for lambda = 1\n",
    "    matrix @ vector = vector\n",
    "    matrix @ vec - vec = 0\n",
    "    (matrix - E) @ vec = 0\n",
    "    \"\"\"\n",
    "    ww, v = np.linalg.eig(matrix)\n",
    "    return v[:, np.isclose(ww, 1)]\n",
    "\n",
    "# 1-b\n",
    "def axis_angle(rot_matrix):\n",
    "    \"\"\"\n",
    "    For a given rotation matrix,\n",
    "    calculates the equivalent axis angle rotation.\n",
    "    \n",
    "    :returns: tuple with the axis vector and rotation angle\n",
    "    \"\"\"\n",
    "    p = get_eig(rot_matrix)\n",
    "    # get vector normal to p\n",
    "    u = np.array([\n",
    "        -p[1],\n",
    "        p[0],\n",
    "        [0]\n",
    "    ])\n",
    "    u_p = rot_matrix @ u\n",
    "    angle = math.acos(\n",
    "        np.real(np.dot(u.T, u_p)) / (\n",
    "            np.linalg.norm(u) * np.linalg.norm(u_p)\n",
    "        )\n",
    "    )\n",
    "    if np.dot(u.T, np.cross(u_p.T, p.T).T) < 0:\n",
    "        p = -p\n",
    "    return (p, angle)\n",
    "    \n",
    "# 1 - c\n",
    "def rodrigez(axis_i, angle):\n",
    "    axis = np.array([axis_i])\n",
    "    axis_norm = np.linalg.norm(axis)\n",
    "    normed = axis / axis_norm\n",
    "    axis_mat = normed.T @ normed\n",
    "    p_x = np.array([\n",
    "        [0, -normed[0][2], normed[0][1]],\n",
    "        [normed[0][2], 0, -normed[0][0]],\n",
    "        [-normed[0][1], normed[0][0], 0]\n",
    "    ])\n",
    "    return (\n",
    "        axis_mat +\n",
    "        math.cos(angle) * (np.eye(3, 3) - axis_mat) +\n",
    "        math.sin(angle) * p_x\n",
    "    )\n"
   ]
  },
  {
   "cell_type": "code",
   "execution_count": 10,
   "metadata": {},
   "outputs": [
    {
     "name": "stdout",
     "output_type": "stream",
     "text": [
      "(array([[ 0.33333333+0.j],\n",
      "       [-0.66666667+0.j],\n",
      "       [ 0.66666667+0.j]]), 1.5707963267948968)\n",
      "[[ 0.11111111 -0.88888889 -0.44444444]\n",
      " [ 0.44444444  0.44444444 -0.77777778]\n",
      " [ 0.88888889 -0.11111111  0.44444444]]\n"
     ]
    }
   ],
   "source": [
    "print(axis_angle(a))\n",
    "r = rodrigez(np.array([1/3, -2/3, 2/3]), math.pi / 2)\n",
    "print(r)"
   ]
  },
  {
   "cell_type": "code",
   "execution_count": 11,
   "metadata": {},
   "outputs": [],
   "source": [
    "axis, angle = axis_angle(a)"
   ]
  },
  {
   "cell_type": "code",
   "execution_count": 8,
   "metadata": {},
   "outputs": [
    {
     "data": {
      "text/plain": [
       "3.1415926535897936"
      ]
     },
     "execution_count": 8,
     "metadata": {},
     "output_type": "execute_result"
    }
   ],
   "source": [
    "angle * 2"
   ]
  },
  {
   "cell_type": "code",
   "execution_count": 18,
   "metadata": {},
   "outputs": [],
   "source": [
    "# 1 - d\n",
    "def a2euler(rotation_matrix):\n",
    "    \"\"\"\n",
    "    For the matrix rotation_matrix calculates the euler angles.\n",
    "    \"\"\"\n",
    "    if rotation_matrix[2][0] < 1:\n",
    "        if rotation_matrix[2][0] > -1:  # unique solution\n",
    "            psy = math.atan2(rotation_matrix[1][0], rotation_matrix[0][0])\n",
    "            theta = math.asin(-rotation_matrix[2][0])\n",
    "            phi = math.atan2(rotation_matrix[2][1], rotation_matrix[2][2])\n",
    "        else:  # solution not unique - Ox3 = -Oz\n",
    "            psy = math.atan2(-rotation_matrix[0][1], rotation_matrix[1][1])\n",
    "            theta = math.pi / 2\n",
    "            phi = 0\n",
    "    else:\n",
    "        psy = math.atan2(-rotation_matrix[0][1], rotation_matrix[1][1])\n",
    "        theta = -math.pi / 2\n",
    "        phi = 0\n",
    "    return (phi, theta, psy)  # rot x, rot y, rot z"
   ]
  },
  {
   "cell_type": "code",
   "execution_count": 19,
   "metadata": {},
   "outputs": [
    {
     "data": {
      "text/plain": [
       "(-0.24497866312686414, -1.09491407713448, 1.3258176636680326)"
      ]
     },
     "execution_count": 19,
     "metadata": {},
     "output_type": "execute_result"
    }
   ],
   "source": [
    "a2euler(a)"
   ]
  },
  {
   "cell_type": "code",
   "execution_count": 16,
   "metadata": {},
   "outputs": [
    {
     "name": "stdout",
     "output_type": "stream",
     "text": [
      "-0.24497866312686414 -1.09491407713448 1.3258176636680326\n"
     ]
    }
   ],
   "source": [
    "print(-math.atan(1/4), -math.asin(8/9), math.atan(4))"
   ]
  }
 ],
 "metadata": {
  "kernelspec": {
   "display_name": "Python 3",
   "language": "python",
   "name": "python3"
  }
 },
 "nbformat": 4,
 "nbformat_minor": 2
}
