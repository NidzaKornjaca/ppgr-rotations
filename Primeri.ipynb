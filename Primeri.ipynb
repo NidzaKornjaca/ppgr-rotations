{
 "cells": [
  {
   "cell_type": "code",
   "execution_count": 8,
   "metadata": {},
   "outputs": [],
   "source": [
    "import math\n",
    "import numpy as np\n",
    "from rotations.quaternions import Quaternion\n",
    "import rotations.representations as rot"
   ]
  },
  {
   "cell_type": "code",
   "execution_count": 15,
   "metadata": {},
   "outputs": [
    {
     "name": "stdout",
     "output_type": "stream",
     "text": [
      "-0.24497866312686414 -1.09491407713448 1.3258176636680326\n"
     ]
    }
   ],
   "source": [
    "phi = -math.atan(0.25)\n",
    "theta = -math.asin(8/9)\n",
    "psy = math.atan(4)\n",
    "print(phi, theta, psy)"
   ]
  },
  {
   "cell_type": "code",
   "execution_count": 16,
   "metadata": {},
   "outputs": [
    {
     "data": {
      "text/plain": [
       "array([[ 0.11111111, -0.88888889, -0.44444444],\n",
       "       [ 0.44444444,  0.44444444, -0.77777778],\n",
       "       [ 0.88888889, -0.11111111,  0.44444444]])"
      ]
     },
     "execution_count": 16,
     "metadata": {},
     "output_type": "execute_result"
    }
   ],
   "source": [
    "a = rot.euler2a(phi, theta, psy)\n",
    "a"
   ]
  },
  {
   "cell_type": "code",
   "execution_count": 22,
   "metadata": {},
   "outputs": [
    {
     "name": "stdout",
     "output_type": "stream",
     "text": [
      "[ 0.33333333+0.j -0.66666667+0.j  0.66666667+0.j] 1.5707963267948968\n",
      "[[ 0.11111111+0.j -0.88888889+0.j -0.44444444+0.j]\n",
      " [ 0.44444444+0.j  0.44444444+0.j -0.77777778+0.j]\n",
      " [ 0.88888889+0.j -0.11111111+0.j  0.44444444+0.j]]\n"
     ]
    }
   ],
   "source": [
    "axis, angle = rot.axis_angle(a)\n",
    "print(axis, angle)\n",
    "r = rot.rodrigez(axis, angle)\n",
    "print(r)"
   ]
  },
  {
   "cell_type": "code",
   "execution_count": 18,
   "metadata": {},
   "outputs": [
    {
     "data": {
      "text/plain": [
       "(-0.24497866312686414, -1.09491407713448, 1.3258176636680326)"
      ]
     },
     "execution_count": 18,
     "metadata": {},
     "output_type": "execute_result"
    }
   ],
   "source": [
    "rot.a2euler(a)"
   ]
  },
  {
   "cell_type": "code",
   "execution_count": 19,
   "metadata": {},
   "outputs": [
    {
     "name": "stdout",
     "output_type": "stream",
     "text": [
      "-0.24497866312686414 -1.09491407713448 1.3258176636680326\n"
     ]
    }
   ],
   "source": [
    "print(-math.atan(1/4), -math.asin(8/9), math.atan(4))"
   ]
  },
  {
   "cell_type": "code",
   "execution_count": 20,
   "metadata": {},
   "outputs": [
    {
     "name": "stdout",
     "output_type": "stream",
     "text": [
      "Quaternion((0.23570226039551584+0j)i + (-0.4714045207910317+0j)j + (0.4714045207910317+0j)k + (0.7071067811865475+0j))\n"
     ]
    }
   ],
   "source": [
    "q = Quaternion.from_axis_angle(axis, angle)\n",
    "print(q)"
   ]
  },
  {
   "cell_type": "code",
   "execution_count": 21,
   "metadata": {},
   "outputs": [
    {
     "name": "stdout",
     "output_type": "stream",
     "text": [
      "[ 0.33333333+0.j -0.66666667+0.j  0.66666667+0.j] 1.5707963267948968\n"
     ]
    }
   ],
   "source": [
    "axis_n, angle_n = q.to_axis_angle()\n",
    "print(axis_n, angle_n)"
   ]
  }
 ],
 "metadata": {
  "kernelspec": {
   "display_name": "Python 3",
   "language": "python",
   "name": "python3"
  },
  "language_info": {
   "codemirror_mode": {
    "name": "ipython",
    "version": 3
   },
   "file_extension": ".py",
   "mimetype": "text/x-python",
   "name": "python",
   "nbconvert_exporter": "python",
   "pygments_lexer": "ipython3",
   "version": "3.6.6"
  }
 },
 "nbformat": 4,
 "nbformat_minor": 2
}
